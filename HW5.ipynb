{
 "cells": [
  {
   "cell_type": "markdown",
   "id": "attended-community",
   "metadata": {},
   "source": [
    "# Домашнее задание 5"
   ]
  },
  {
   "cell_type": "markdown",
   "id": "revolutionary-declaration",
   "metadata": {},
   "source": [
    "## Задача 1\n",
    "\n",
    "Известно, что генеральная совокупность распределена нормально с известным средним квадратическим отклонением 16. Найти доверительный интервал для оценки математического ожидания mu с надёжностью 0.95, если выборочное среднее равно 80, а объём равен 256."
   ]
  },
  {
   "cell_type": "markdown",
   "id": "according-quantity",
   "metadata": {},
   "source": [
    "#### Решение"
   ]
  },
  {
   "cell_type": "markdown",
   "id": "casual-party",
   "metadata": {},
   "source": [
    "$\\sigma = 16$\n",
    "\n",
    "$1 - \\alpha = 0.95$\n",
    "\n",
    "$\\overline{X} = 80$\n",
    "\n",
    "n = 256"
   ]
  },
  {
   "cell_type": "markdown",
   "id": "packed-abraham",
   "metadata": {},
   "source": [
    "$\\overline{X} - t_{\\frac{\\alpha}{2}}\\cdot\\frac{\\sigma}{\\sqrt{n}} \\le \\mu \\le \\overline{X} + t_{\\frac{\\alpha}{2}}\\cdot\\frac{\\sigma}{\\sqrt{n}}$"
   ]
  },
  {
   "cell_type": "code",
   "execution_count": 2,
   "id": "above-haven",
   "metadata": {},
   "outputs": [],
   "source": [
    "from scipy import stats"
   ]
  },
  {
   "cell_type": "code",
   "execution_count": 5,
   "id": "welcome-means",
   "metadata": {},
   "outputs": [
    {
     "data": {
      "text/plain": [
       "0.509972518195238"
      ]
     },
     "execution_count": 5,
     "metadata": {},
     "output_type": "execute_result"
    }
   ],
   "source": [
    "t_alpha = stats.norm.cdf(0.025)\n",
    "t_alpha"
   ]
  },
  {
   "cell_type": "code",
   "execution_count": 6,
   "id": "incorporated-shopper",
   "metadata": {},
   "outputs": [
    {
     "data": {
      "text/plain": [
       "1.0"
      ]
     },
     "execution_count": 6,
     "metadata": {},
     "output_type": "execute_result"
    }
   ],
   "source": [
    "16./(256)**(0.5) "
   ]
  },
  {
   "cell_type": "markdown",
   "id": "organizational-functionality",
   "metadata": {},
   "source": [
    "Таким образом, получаем ответ:\n",
    "\n"
   ]
  },
  {
   "cell_type": "markdown",
   "id": "suffering-essence",
   "metadata": {},
   "source": [
    "$80 - 0.51 \\le \\mu \\le 80 + 0.51$"
   ]
  },
  {
   "cell_type": "markdown",
   "id": "convinced-ozone",
   "metadata": {},
   "source": [
    "Как-то очень плотно. Но ведь t - это квантиль нормального стандартного? Мы же знаем распределение. Кстати об этом, вот вопрос: а в каких вообще жизненных задачах может так получиться, что нам надо оценить среднее при том, что мы знаем наперед ско? Или это чисто для тренировки?"
   ]
  },
  {
   "cell_type": "markdown",
   "id": "unique-duplicate",
   "metadata": {},
   "source": [
    "## Задача 2\n",
    "\n",
    "Продавец утверждает, что средний вес пачки печенья составляет 200 г. Из партии извлечена выборка из 10 пачек. Вес каждой пачки составляет:\n",
    "\n",
    "202, 203, 199, 197, 195, 201, 200, 204, 194, 190\n",
    "\n",
    "Известно, что их веса распределены нормально.\n",
    "1. Верно ли утверждение продавца, если учитывать, что уровень значимости равен 1%?\n",
    "2. Найдите P-значение для данного теста."
   ]
  },
  {
   "cell_type": "markdown",
   "id": "educated-david",
   "metadata": {},
   "source": [
    "#### Решение"
   ]
  },
  {
   "cell_type": "markdown",
   "id": "helpful-honey",
   "metadata": {},
   "source": [
    "Гипотеза $H_0$: $\\mu = 200$"
   ]
  },
  {
   "cell_type": "code",
   "execution_count": 7,
   "id": "indian-olympus",
   "metadata": {},
   "outputs": [],
   "source": [
    "import numpy as np"
   ]
  },
  {
   "cell_type": "code",
   "execution_count": 14,
   "id": "bearing-african",
   "metadata": {},
   "outputs": [
    {
     "data": {
      "text/plain": [
       "(198.5, 4.453463071962462)"
      ]
     },
     "execution_count": 14,
     "metadata": {},
     "output_type": "execute_result"
    }
   ],
   "source": [
    "x = np.array([202, 203, 199, 197, 195, 201, 200, 204, 194, 190])\n",
    "mean = x.mean()\n",
    "std = x.std(ddof = 1)\n",
    "n = len(x)\n",
    "mean, std"
   ]
  },
  {
   "cell_type": "code",
   "execution_count": 29,
   "id": "demographic-denver",
   "metadata": {},
   "outputs": [
    {
     "data": {
      "text/plain": [
       "(-3.24983554401537, 3.2498355440153697)"
      ]
     },
     "execution_count": 29,
     "metadata": {},
     "output_type": "execute_result"
    }
   ],
   "source": [
    "p = 0.99\n",
    "alpha = 0.01\n",
    "t1, t2 = stats.t.ppf(alpha/2, df = n - 1), stats.t.ppf(1 - alpha/2, df = n - 1)\n",
    "t1, t2"
   ]
  },
  {
   "cell_type": "markdown",
   "id": "changing-robertson",
   "metadata": {},
   "source": [
    "Берем статистику t"
   ]
  },
  {
   "cell_type": "code",
   "execution_count": 26,
   "id": "explicit-adelaide",
   "metadata": {},
   "outputs": [],
   "source": [
    "def statistic(samples):\n",
    "    return (samples.mean() - 1) / (samples.std(ddof=1) / np.sqrt(samples.shape[0]))"
   ]
  },
  {
   "cell_type": "code",
   "execution_count": 27,
   "id": "fantastic-casino",
   "metadata": {},
   "outputs": [],
   "source": [
    "S = statistic(x)"
   ]
  },
  {
   "cell_type": "markdown",
   "id": "identical-banks",
   "metadata": {},
   "source": [
    "### И сам вывод"
   ]
  },
  {
   "cell_type": "code",
   "execution_count": 28,
   "id": "wrong-treasury",
   "metadata": {},
   "outputs": [
    {
     "name": "stdout",
     "output_type": "stream",
     "text": [
      "H_0 declined\n",
      "140.23914149310346\n"
     ]
    }
   ],
   "source": [
    "if (t1 <= S <= t2):\n",
    "    print(\"H_0 accepted\")\n",
    "else:\n",
    "    print(\"H_0 declined\")\n",
    "    print(S)"
   ]
  },
  {
   "cell_type": "markdown",
   "id": "younger-supplier",
   "metadata": {},
   "source": [
    "Ох, бред, я чувствую, получился. Даже если и нет, курс для меня внезапно превратился в заклинания, которые просто применяем: почему именно такие статистики, почему именно такие распределения должны быть...или это я один поплыл. Буду изучать подробнее. И буду рад посоветованной литературе помиимо"
   ]
  },
  {
   "cell_type": "markdown",
   "id": "invalid-quilt",
   "metadata": {},
   "source": [
    "### P-value"
   ]
  },
  {
   "cell_type": "markdown",
   "id": "interior-processing",
   "metadata": {},
   "source": [
    "Так как рассматриваем двустороннюю альтернативную гипотезу, P-value находим по формуле:\n",
    "\n",
    "$$ P = 2\\cdot min(P_l, P_r)\n",
    "$$"
   ]
  },
  {
   "cell_type": "code",
   "execution_count": 32,
   "id": "governmental-speed",
   "metadata": {},
   "outputs": [
    {
     "data": {
      "text/plain": [
       "2.220446049250313e-16"
      ]
     },
     "execution_count": 32,
     "metadata": {},
     "output_type": "execute_result"
    }
   ],
   "source": [
    "P_l, P_r = (stats.t.cdf(S, df = n-1), 1 - stats.t.cdf(S, df = n-1))\n",
    "P = 2*min(P_l, P_r)\n",
    "P"
   ]
  },
  {
   "cell_type": "markdown",
   "id": "cooked-delight",
   "metadata": {},
   "source": [
    "То есть, действительно, вероятность того, что матожидание у нас 200 невелика. Сильно невелика"
   ]
  },
  {
   "cell_type": "code",
   "execution_count": 34,
   "id": "excited-association",
   "metadata": {},
   "outputs": [],
   "source": [
    "from matplotlib import pyplot as plt\n",
    "\n",
    "plt.style.use('seaborn-whitegrid')"
   ]
  },
  {
   "cell_type": "code",
   "execution_count": 62,
   "id": "grave-cattle",
   "metadata": {},
   "outputs": [
    {
     "data": {
      "text/plain": [
       "(array([0.03571429, 0.07142857, 0.03571429, 0.10714286, 0.10714286]),\n",
       " array([190. , 192.8, 195.6, 198.4, 201.2, 204. ]),\n",
       " <BarContainer object of 5 artists>)"
      ]
     },
     "execution_count": 62,
     "metadata": {},
     "output_type": "execute_result"
    },
    {
     "data": {
      "image/png": "[encoded data removed]",
      "text/plain": [
       "<Figure size 432x288 with 1 Axes>"
      ]
     },
     "metadata": {},
     "output_type": "display_data"
    }
   ],
   "source": [
    "ox = np.linspace(190, 210, 500)\n",
    "oy = stats.norm.pdf(ox, loc = 200, scale = std)\n",
    "\n",
    "ox1 = x\n",
    "oy1 = np.histogram(x)\n",
    "\n",
    "plt.plot(ox, oy)\n",
    "plt.hist(x, bins = 5, density=True)"
   ]
  },
  {
   "cell_type": "markdown",
   "id": "african-purchase",
   "metadata": {},
   "source": [
    "### И вот тут опять у меня вопросы: \n",
    "\n",
    "1) почему так? Почему не просто сумма двух хвостов - левого и правого.\n",
    "\n",
    "2) В случае с нормальным распределением или стьюдентом хвосты эти не будут равновелики? Ведь распределения симметричны?\n",
    "\n",
    "3) Почему в нашем примере мы можем позволить себе, что статистика будет распределена нормально? Я понимаю, что у нас было ЦПТ, но ведь она же говорит о стремлении при $n \\to \\infty$, верно? А у нас наблюдений совсем немного \n"
   ]
  },
  {
   "cell_type": "code",
   "execution_count": null,
   "id": "moving-tomato",
   "metadata": {},
   "outputs": [],
   "source": []
  },
  {
   "cell_type": "markdown",
   "id": "surface-equipment",
   "metadata": {},
   "source": [
    "## Задача 3\n",
    "\n",
    "Утверждается, что шарики для подшипников, изготовленные автоматическим станком, имеют средний диаметр 17 мм. Используя уровень значимости 0.025 и правостороннюю критическую область, проверить данную гипотезу при условии, что в выборке из 100 шариков средний диаметр оказался равным 17.5 мм, а дисперсия известна и равна 4 мм."
   ]
  },
  {
   "cell_type": "markdown",
   "id": "stunning-fellowship",
   "metadata": {},
   "source": [
    "#### Решение"
   ]
  },
  {
   "cell_type": "markdown",
   "id": "japanese-november",
   "metadata": {},
   "source": [
    "$H_0: \\mu = 17$\n",
    "\n",
    "$H_1: \\mu > 17$\n",
    "\n",
    "Дисперсию знаем, значит, используем статистику\n",
    "\n",
    "$$Z = \\dfrac{\\overline{X} - \\mu}{\\sigma / \\sqrt{n}},$$"
   ]
  },
  {
   "cell_type": "code",
   "execution_count": 65,
   "id": "covered-court",
   "metadata": {},
   "outputs": [
    {
     "data": {
      "text/plain": [
       "1.25"
      ]
     },
     "execution_count": 65,
     "metadata": {},
     "output_type": "execute_result"
    }
   ],
   "source": [
    "Z = (17.5 - 17) / (4 / 10)\n",
    "Z"
   ]
  },
  {
   "cell_type": "markdown",
   "id": "pending-friendly",
   "metadata": {},
   "source": [
    "Найдем теперь квантиль нормального $t_{1 - 0.025}$"
   ]
  },
  {
   "cell_type": "code",
   "execution_count": 68,
   "id": "willing-dallas",
   "metadata": {},
   "outputs": [
    {
     "data": {
      "text/plain": [
       "1.959963984540054"
      ]
     },
     "execution_count": 68,
     "metadata": {},
     "output_type": "execute_result"
    }
   ],
   "source": [
    "t = stats.norm.ppf(1 - 0.025)\n",
    "t"
   ]
  },
  {
   "cell_type": "markdown",
   "id": "freelance-pursuit",
   "metadata": {},
   "source": [
    "### И сам вывод:"
   ]
  },
  {
   "cell_type": "code",
   "execution_count": 70,
   "id": "developmental-script",
   "metadata": {},
   "outputs": [
    {
     "name": "stdout",
     "output_type": "stream",
     "text": [
      "H_0 accepted\n"
     ]
    }
   ],
   "source": [
    "if (Z <= t):\n",
    "    print(\"H_0 accepted\")\n",
    "else:\n",
    "    print(\"H_0 declined\")\n",
    "    print(S)"
   ]
  },
  {
   "cell_type": "markdown",
   "id": "angry-prince",
   "metadata": {},
   "source": [
    "### И снова вопросы: "
   ]
  },
  {
   "cell_type": "markdown",
   "id": "tested-showcase",
   "metadata": {},
   "source": [
    "1) В чем принципиальная логика брать правосторонюю альтернативу вместо двусторонней: типа, поскай будут подшипники маленькие - неважно; но не дай бог мы узнаем, что станок-транжира тратит слишком много металла?\n",
    "\n",
    "2) И опять же вопрос про известную дисперсию: Как так может получиться, что мы знаем, какой разброс у станка, но что он там в среднем вытачивает - хз? Я не придираюсь, естесственно, просто пытаюсь понять ))"
   ]
  },
  {
   "cell_type": "markdown",
   "id": "amazing-graphic",
   "metadata": {},
   "source": [
    "## Задача 4\n",
    "\n",
    "Дана выборка диаметров подшипников из примера 1 с занятия 5:\n",
    "\n",
    "samples = [0.6603, 0.9466, 0.5968, 1.3792, 1.5481, 0.7515, 1.0681, 1.1134,\n",
    "1.2088, 1.701 , 1.0282, 1.3579, 1.0191, 1.1784, 1.1168, 1.1372,\n",
    "0.7273, 1.3958, 0.8665, 1.5112, 1.161 , 1.0232, 1.0865, 1.02 ]\n",
    "\n",
    "Предполагая, что диаметры подшипников распределены нормально, проверьте гипотезу о том, что дисперсия случайной величины равна 0.0625 при уровне значимости alpha = 0.05. Что для этого нужно знать:\n",
    "1. Альтернативная гипотеза двухсторонняя.\n",
    "2. Статистика для теста: H = (n - 1) * sample_variance / variance, где n - число элементов в выборке, sample_variance - несмещённая оценка дисперсии, variance - утверждаемая нулевой гипотезой дисперсия.\n",
    "3. Эта статистика в предположении верности нулевой гипотезы имеет распределение хи-квадрат с параметром df = n - 1. Её квантили можно найти с помощью функции scipy.stats.chi2.ppf."
   ]
  },
  {
   "cell_type": "markdown",
   "id": "bronze-spine",
   "metadata": {},
   "source": [
    "#### Решение"
   ]
  },
  {
   "cell_type": "code",
   "execution_count": 75,
   "id": "adapted-round",
   "metadata": {},
   "outputs": [],
   "source": [
    "samples = np.array([0.6603, 0.9466, 0.5968, 1.3792, 1.5481, 0.7515, 1.0681, 1.1134,\n",
    "1.2088, 1.701 , 1.0282, 1.3579, 1.0191, 1.1784, 1.1168, 1.1372,\n",
    "0.7273, 1.3958, 0.8665, 1.5112, 1.161 , 1.0232, 1.0865, 1.02 ])"
   ]
  },
  {
   "cell_type": "code",
   "execution_count": 76,
   "id": "arranged-jumping",
   "metadata": {},
   "outputs": [],
   "source": [
    "variance = 0.065\n",
    "sample_variance = np.std(samples, ddof=1)"
   ]
  },
  {
   "cell_type": "code",
   "execution_count": 86,
   "id": "chronic-macro",
   "metadata": {},
   "outputs": [
    {
     "data": {
      "text/plain": [
       "38.681344168557416"
      ]
     },
     "execution_count": 86,
     "metadata": {},
     "output_type": "execute_result"
    }
   ],
   "source": [
    "H = (n - 1) * sample_variance / variance\n",
    "H"
   ]
  },
  {
   "cell_type": "code",
   "execution_count": 87,
   "id": "faced-snapshot",
   "metadata": {},
   "outputs": [
    {
     "data": {
      "text/plain": [
       "(2.7003894999803584, 19.02276779864163)"
      ]
     },
     "execution_count": 87,
     "metadata": {},
     "output_type": "execute_result"
    }
   ],
   "source": [
    "t_1 = stats.chi2.ppf( 0.025, df = n-1)\n",
    "\n",
    "t_2 = stats.chi2.ppf( 1 - 0.025, df = n-1)\n",
    "t_1, t_2\n",
    "\n"
   ]
  },
  {
   "cell_type": "markdown",
   "id": "alternative-allowance",
   "metadata": {},
   "source": [
    "Как видим, статистика попала правее правой квантили, т е попала в правый хвост\n",
    "\n",
    "### Вывод: \n",
    "Гипотеза отвергается, дисперсия не такая"
   ]
  }
 ],
 "metadata": {
  "kernelspec": {
   "display_name": "Python 3",
   "language": "python",
   "name": "python3"
  },
  "language_info": {
   "codemirror_mode": {
    "name": "ipython",
    "version": 3
   },
   "file_extension": ".py",
   "mimetype": "text/x-python",
   "name": "python",
   "nbconvert_exporter": "python",
   "pygments_lexer": "ipython3",
   "version": "3.9.0"
  }
 },
 "nbformat": 4,
 "nbformat_minor": 5
}
