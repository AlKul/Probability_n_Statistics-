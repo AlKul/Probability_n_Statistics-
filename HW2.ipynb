{
 "cells": [
  {
   "cell_type": "markdown",
   "metadata": {},
   "source": [
    "# Домашнее задание 2"
   ]
  },
  {
   "cell_type": "markdown",
   "metadata": {},
   "source": [
    "### Задача 1\n",
    "\n",
    "Контрольная работа состоит из пяти вопросов. На каждый вопрос приведено четыре варианта ответа, один из которых правильный. Составьте закон распределения числа правильных ответов при простом угадывании. Найдите M(X), D(X)"
   ]
  },
  {
   "cell_type": "markdown",
   "metadata": {},
   "source": [
    "#### Решение"
   ]
  },
  {
   "cell_type": "markdown",
   "metadata": {},
   "source": [
    "Событием $A_i$ назовем событие ответить правильно на i-й вопрос"
   ]
  },
  {
   "cell_type": "markdown",
   "metadata": {},
   "source": [
    "$P(A_0) = \\frac{1}{4}$\n",
    "\n",
    "$P(\\overline{A}_0) = \\frac{3}{4}$"
   ]
  },
  {
   "cell_type": "markdown",
   "metadata": {},
   "source": [
    "X - сл.в., равная количеству успешных ответов"
   ]
  },
  {
   "cell_type": "markdown",
   "metadata": {},
   "source": [
    "$A_i $~$ Bern(p = 0.25)$\n",
    "\n",
    "$X$ ~ $Bin(5, 0.25)$"
   ]
  },
  {
   "cell_type": "markdown",
   "metadata": {},
   "source": [
    "M(X) = np = $\\frac{5}{4}$\n",
    "\n",
    "D(X) = npq = $\\frac{15}{16}$"
   ]
  },
  {
   "cell_type": "markdown",
   "metadata": {},
   "source": [
    "### Задача 2\n",
    "\n",
    "Вероятность поймать рыбу при одном забрасывании удочки равна 0.01. Какова вероятность того, что число пойманных рыб при 200 забросах удочки будет не менее 5 и не более 10?"
   ]
  },
  {
   "cell_type": "markdown",
   "metadata": {},
   "source": [
    "#### Решение"
   ]
  },
  {
   "cell_type": "markdown",
   "metadata": {},
   "source": [
    "$P( 5\\le X\\le 10) = F_X(10) \\cdot (1 - F_X(4))$"
   ]
  },
  {
   "cell_type": "markdown",
   "metadata": {},
   "source": [
    "$F_X(x) = \\sum\\limits_{k = 0}^{x}p^k\\cdot q^{n - k}\\cdot C_n^k$"
   ]
  },
  {
   "cell_type": "code",
   "execution_count": 52,
   "metadata": {},
   "outputs": [
    {
     "data": {
      "text/plain": [
       "0.051739381860374606"
      ]
     },
     "execution_count": 52,
     "metadata": {},
     "output_type": "execute_result"
    }
   ],
   "source": [
    "def factorial(n):\n",
    "    if n <= 1:\n",
    "        return 1\n",
    "    return n*factorial(n-1)\n",
    "def combinations(n, k):\n",
    "    return(factorial(n) / (factorial(k)*factorial(n-k) ) )\n",
    "\n",
    "def Binom_prob_func(n, p, x): # это функция распределения\n",
    "    Sum = 0.\n",
    "    for k in range(0,x+1):\n",
    "        Sum += (p**k * (1-p)**(n - k) * combinations(n, k))\n",
    "    return Sum\n",
    "def Binom_prob(n, p, k): # это просто вероятность\n",
    "    return  (p**k * (1 - p)**(n-k) * combinations(n, k))\n",
    "    \n",
    "    \n",
    "res = 0.\n",
    "for i in range(5, 11):\n",
    "    res += Binom_prob(200, 0.01, i)\n",
    "#res = (Binom_prob_func(200, 0.01, 10) * (1 - Binom_prob_func(200, 0.01, 4)))\n",
    "res"
   ]
  },
  {
   "cell_type": "markdown",
   "metadata": {},
   "source": [
    "Вот, собственно, и ответ\n",
    "\n",
    "Кстати, подскажите, пожалуйста, есть ли возможность в маркдаун сразу запихнуть результат из кода?"
   ]
  },
  {
   "cell_type": "markdown",
   "metadata": {},
   "source": [
    "### Задача 3\n",
    "\n",
    "В условиях предыдущей задачи сколько забросов удочки нужно сделать чтобы быть уверенным с вероятностью 0.9, что хотя бы 10 раз будет поймана рыба?\n",
    "\n",
    "Подсказка. Как посчитать P(X >= k) для величины X, имеющей биномиальное распределение? Здесь предстоит немножко покодить."
   ]
  },
  {
   "cell_type": "markdown",
   "metadata": {},
   "source": [
    "#### Решение"
   ]
  },
  {
   "cell_type": "markdown",
   "metadata": {},
   "source": [
    "Да мы и так уже тут нагло кодим вовсю\n",
    "\n",
    "$P(X >= 10) = 1 - P(X \\le 9)$"
   ]
  },
  {
   "cell_type": "markdown",
   "metadata": {},
   "source": [
    "Первое, что приходит в голову - просто запустить цикл. Если сработает, то думать сегодня уже не придется"
   ]
  },
  {
   "cell_type": "code",
   "execution_count": 69,
   "metadata": {},
   "outputs": [
    {
     "name": "stdout",
     "output_type": "stream",
     "text": [
      "1418\n"
     ]
    }
   ],
   "source": [
    "n = 10\n",
    "while 1:\n",
    "    res = 1 - Binom_prob_func(n, 0.01, 9)\n",
    "    if (res >= 0.9):\n",
    "        break\n",
    "    else:\n",
    "        n += 1\n",
    "print(n)\n"
   ]
  }
 ],
 "metadata": {
  "kernelspec": {
   "display_name": "Python 3",
   "language": "python",
   "name": "python3"
  },
  "language_info": {
   "codemirror_mode": {
    "name": "ipython",
    "version": 3
   },
   "file_extension": ".py",
   "mimetype": "text/x-python",
   "name": "python",
   "nbconvert_exporter": "python",
   "pygments_lexer": "ipython3",
   "version": "3.6.1"
  }
 },
 "nbformat": 4,
 "nbformat_minor": 2
}
