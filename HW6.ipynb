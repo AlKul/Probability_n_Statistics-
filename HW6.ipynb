{
 "cells": [
  {
   "cell_type": "markdown",
   "id": "unusual-comfort",
   "metadata": {},
   "source": [
    "# Домашнее задание 6"
   ]
  },
  {
   "cell_type": "markdown",
   "id": "starting-yesterday",
   "metadata": {},
   "source": [
    "## Задача 1\n",
    "\n",
    "Даны значения величины заработной платы заемщиков банка (salary) и значения их поведенческого кредитного скоринга (scoring):\n",
    "\n",
    "salary = [35, 45, 190, 200, 40, 70, 54, 150, 120, 110]\n",
    "scoring = [401, 574, 874, 919, 459, 739, 653, 902, 746, 832]\n",
    "\n",
    "1. Найдите ковариацию этих двух величин: сначала без использования специальных функций, а затем с помощью функции numpy.cov. Полученные значения должны быть равны.\n",
    "2. Найдите коэффициент корреляции Пирсона: с помощью ковариации и средних квадратических отклонений двух признаков, а затем с помощью специальных функций из библиотек numpy и pandas."
   ]
  },
  {
   "cell_type": "markdown",
   "id": "sought-tuition",
   "metadata": {},
   "source": [
    "#### Решение"
   ]
  },
  {
   "cell_type": "markdown",
   "id": "independent-desire",
   "metadata": {},
   "source": [
    "##### Пункт 1"
   ]
  },
  {
   "cell_type": "code",
   "execution_count": 2,
   "id": "distinct-burst",
   "metadata": {},
   "outputs": [],
   "source": [
    "import numpy as np"
   ]
  },
  {
   "cell_type": "code",
   "execution_count": 4,
   "id": "remarkable-consensus",
   "metadata": {},
   "outputs": [],
   "source": [
    "salary = np.array( [35, 45, 190, 200, 40, 70, 54, 150, 120, 110])\n",
    "scoring = ([401, 574, 874, 919, 459, 739, 653, 902, 746, 832])"
   ]
  },
  {
   "cell_type": "code",
   "execution_count": 24,
   "id": "governing-kinase",
   "metadata": {},
   "outputs": [
    {
     "data": {
      "text/plain": [
       "10175.377777777778"
      ]
     },
     "execution_count": 24,
     "metadata": {},
     "output_type": "execute_result"
    }
   ],
   "source": [
    "   \n",
    "def cov(X, Y):\n",
    "    n = len(X)\n",
    "    \n",
    "    res = 0.\n",
    "    for i in range(n):\n",
    "        res += (X[i] - np.mean(X)) * (Y[i] - np.mean(Y))\n",
    "    res /= (n-1)\n",
    "    return res\n",
    "\n",
    "cov(salary, scoring)"
   ]
  },
  {
   "cell_type": "markdown",
   "id": "composed-possible",
   "metadata": {},
   "source": [
    "### Теперь проверим встроенной функцией"
   ]
  },
  {
   "cell_type": "code",
   "execution_count": 12,
   "id": "cooked-thanksgiving",
   "metadata": {},
   "outputs": [
    {
     "data": {
      "text/plain": [
       "array([[ 3882.93333333, 10175.37777778],\n",
       "       [10175.37777778, 33854.32222222]])"
      ]
     },
     "execution_count": 12,
     "metadata": {},
     "output_type": "execute_result"
    }
   ],
   "source": [
    "np.cov(salary, scoring)"
   ]
  },
  {
   "cell_type": "code",
   "execution_count": 17,
   "id": "checked-inventory",
   "metadata": {},
   "outputs": [
    {
     "name": "stdout",
     "output_type": "stream",
     "text": [
      "Object `numpy.cov()` not found.\n"
     ]
    }
   ],
   "source": [
    "?numpy.cov()"
   ]
  },
  {
   "cell_type": "markdown",
   "id": "political-adult",
   "metadata": {},
   "source": [
    "__А как это так, простите? ((__"
   ]
  },
  {
   "cell_type": "markdown",
   "id": "caring-institution",
   "metadata": {},
   "source": [
    "И еще небольшой вопрос по количеству степеней свободы:\n",
    "Если правильно вас понял, то оно равно количеству независимых оценок, используемых в формуле, верно? Здесь мы используем 2 выборочных средних, но вычитаем 1. Где я запутался?"
   ]
  },
  {
   "cell_type": "markdown",
   "id": "unusual-blank",
   "metadata": {},
   "source": [
    "##### Пункт 2"
   ]
  },
  {
   "cell_type": "markdown",
   "id": "empty-starter",
   "metadata": {},
   "source": [
    "Воспользуемся уже написанной функцией ковариации для подсчета несмещенной оценки - просто подадим на вход два одинаковых вектора"
   ]
  },
  {
   "cell_type": "code",
   "execution_count": 35,
   "id": "spoken-capability",
   "metadata": {},
   "outputs": [
    {
     "data": {
      "text/plain": [
       "0.8874900920739162"
      ]
     },
     "execution_count": 35,
     "metadata": {},
     "output_type": "execute_result"
    }
   ],
   "source": [
    "r = cov(salary, scoring)/ ( cov(salary, salary) * cov(scoring, scoring) ) ** (0.5)\n",
    "r"
   ]
  },
  {
   "cell_type": "code",
   "execution_count": 31,
   "id": "wooden-sessions",
   "metadata": {},
   "outputs": [
    {
     "data": {
      "text/plain": [
       "array([[1.        , 0.88749009],\n",
       "       [0.88749009, 1.        ]])"
      ]
     },
     "execution_count": 31,
     "metadata": {},
     "output_type": "execute_result"
    }
   ],
   "source": [
    "r1 = np.corrcoef(salary, scoring)\n",
    "r1"
   ]
  },
  {
   "cell_type": "code",
   "execution_count": 33,
   "id": "impressed-respondent",
   "metadata": {},
   "outputs": [],
   "source": [
    "from scipy import stats"
   ]
  },
  {
   "cell_type": "code",
   "execution_count": 36,
   "id": "fleet-statistics",
   "metadata": {},
   "outputs": [
    {
     "data": {
      "text/plain": [
       "(0.8874900920739164, 0.0006107546587257491)"
      ]
     },
     "execution_count": 36,
     "metadata": {},
     "output_type": "execute_result"
    }
   ],
   "source": [
    "stats.pearsonr(salary, scoring)"
   ]
  },
  {
   "cell_type": "markdown",
   "id": "similar-equality",
   "metadata": {},
   "source": [
    "## Задача 2\n",
    "\n",
    "Измерены значения IQ выборки студентов, обучающихся в местных технических вузах:\n",
    "\n",
    "131, 125, 115, 122, 131, 115, 107, 99, 125, 111\n",
    "\n",
    "Известно, что в генеральной совокупности IQ распределен нормально. Найдите доверительный интервал для математического ожидания с надежностью 0.95."
   ]
  },
  {
   "cell_type": "markdown",
   "id": "abroad-identification",
   "metadata": {},
   "source": [
    "#### Решение"
   ]
  },
  {
   "cell_type": "code",
   "execution_count": 40,
   "id": "breeding-election",
   "metadata": {},
   "outputs": [],
   "source": [
    "iq_results = np.array([131, 125, 115, 122, 131, 115, 107, 99, 125, 111])"
   ]
  },
  {
   "cell_type": "code",
   "execution_count": 47,
   "id": "lyric-closing",
   "metadata": {},
   "outputs": [],
   "source": [
    "alpha = 1 - 0.95\n",
    "n = len(iq_results)"
   ]
  },
  {
   "cell_type": "markdown",
   "id": "understood-gibraltar",
   "metadata": {},
   "source": [
    "Дисперсию мы наверянка не знаем, поэтому будем пользоваться распределением Стьюдента"
   ]
  },
  {
   "cell_type": "markdown",
   "id": "tough-equilibrium",
   "metadata": {},
   "source": [
    "$$\\overline{X} + t_{\\alpha / 2, \\: n - 1} \\cdot \\dfrac{\\sigma_X}{\\sqrt{n}} \\leq \\mu \\leq \\overline{X} + t_{1 - \\alpha / 2, \\: n - 1} \\cdot \\dfrac{\\sigma_X}{\\sqrt{n}} $$"
   ]
  },
  {
   "cell_type": "code",
   "execution_count": 60,
   "id": "clean-access",
   "metadata": {},
   "outputs": [
    {
     "data": {
      "text/plain": [
       "(110.9432125583706, 125.25678744162938)"
      ]
     },
     "execution_count": 60,
     "metadata": {},
     "output_type": "execute_result"
    }
   ],
   "source": [
    "mu1, mu2 = ( np.mean(iq_results) + stats.t.ppf(alpha/2, df = n - 1) * np.std(iq_results) / n**(0.5),\n",
    " np.mean(iq_results) + stats.t.ppf(1 - alpha/2, df = n - 1) * np.std(iq_results) / n**(0.5))\n",
    "\n",
    "mu1,  mu2\n",
    "\n"
   ]
  },
  {
   "cell_type": "code",
   "execution_count": 62,
   "id": "colored-slide",
   "metadata": {},
   "outputs": [],
   "source": [
    "from IPython.display import Markdown as md"
   ]
  },
  {
   "cell_type": "code",
   "execution_count": 68,
   "id": "adjusted-gazette",
   "metadata": {},
   "outputs": [
    {
     "data": {
      "text/markdown": [
       "### И получился у нас доверительный интервал: \n",
       "(110.9432125583706, 125.25678744162938 )"
      ],
      "text/plain": [
       "<IPython.core.display.Markdown object>"
      ]
     },
     "execution_count": 68,
     "metadata": {},
     "output_type": "execute_result"
    }
   ],
   "source": [
    "md(\"### И получился у нас доверительный интервал: \\n({}, {} )\".format(mu1, mu2))"
   ]
  },
  {
   "cell_type": "markdown",
   "id": "assumed-spring",
   "metadata": {},
   "source": [
    "Ксати, а как в случае вывода из питона в макрдаун продолжать писать в latex стиле? Он ругается и не понимает меня ("
   ]
  },
  {
   "cell_type": "markdown",
   "id": "fuzzy-childhood",
   "metadata": {},
   "source": [
    "## Задача 3\n",
    "\n",
    "Известно, что рост футболистов в сборной распределен нормально с известной дисперсией 25. На выборке объёма 27 выборочное среднее составило 174.2. Найдите доверительный интервал для математического ожидания с надежностью 0.95."
   ]
  },
  {
   "cell_type": "markdown",
   "id": "detailed-fault",
   "metadata": {},
   "source": [
    "#### Решение"
   ]
  },
  {
   "cell_type": "code",
   "execution_count": 69,
   "id": "difficult-assets",
   "metadata": {},
   "outputs": [],
   "source": [
    "sigma2 = 25\n",
    "n = 27\n",
    "X_mean = 174.2\n",
    "p = 0.95"
   ]
  }
 ],
 "metadata": {
  "kernelspec": {
   "display_name": "Python 3",
   "language": "python",
   "name": "python3"
  },
  "language_info": {
   "codemirror_mode": {
    "name": "ipython",
    "version": 3
   },
   "file_extension": ".py",
   "mimetype": "text/x-python",
   "name": "python",
   "nbconvert_exporter": "python",
   "pygments_lexer": "ipython3",
   "version": "3.9.0"
  }
 },
 "nbformat": 4,
 "nbformat_minor": 5
}
